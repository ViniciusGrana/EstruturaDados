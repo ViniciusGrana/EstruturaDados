{
  "nbformat": 4,
  "nbformat_minor": 0,
  "metadata": {
    "colab": {
      "provenance": []
    },
    "kernelspec": {
      "name": "python3",
      "display_name": "Python 3"
    },
    "language_info": {
      "name": "python"
    }
  },
  "cells": [
    {
      "cell_type": "code",
      "source": [
        "import queue"
      ],
      "metadata": {
        "id": "Tp9nonp6Dqp3"
      },
      "execution_count": null,
      "outputs": []
    },
    {
      "cell_type": "code",
      "execution_count": null,
      "metadata": {
        "colab": {
          "base_uri": "https://localhost:8080/"
        },
        "id": "aMHihKF3-aId",
        "outputId": "9ead77c5-9920-4be9-b1d8-8cd6d164671b"
      },
      "outputs": [
        {
          "output_type": "execute_result",
          "data": {
            "text/plain": [
              "1.0"
            ]
          },
          "metadata": {},
          "execution_count": 5
        }
      ],
      "source": [
        "import queue\n",
        "\n",
        "op = { '+': lambda op1, op2 : op1+op2,\n",
        "        '-': lambda op1, op2: op1-op2,\n",
        "         '*': lambda op1, op2: op1*op2,\n",
        "         '/': lambda op1, op2: op1/op2}\n",
        "\n",
        "def avalia(expr):\n",
        "  pilha = queue.LifoQueue()\n",
        "  tokens = expr.split()\n",
        "  for tk in tokens:\n",
        "    if tk .isdigit():\n",
        "      pilha.put(float(tk))\n",
        "    elif tk in op:\n",
        "      op2 = pilha.get()\n",
        "      op1 = pilha.get()\n",
        "      res = op[tk](op1, op2)\n",
        "      pilha.put(res)\n",
        "  return pilha.get()\n",
        "\n",
        "avalia('7 4 - 3 * 16 2 / -')"
      ]
    },
    {
      "cell_type": "code",
      "source": [
        "def mm(seq, jan):\n",
        "  fila = queue.Queue()\n",
        "  soma = 0\n",
        "  mmov = []\n",
        "  for i, n in enumerate(seq):\n",
        "    fila.put(n)\n",
        "    soma += n\n",
        "    if i >= jan-1:\n",
        "      mmov.append(soma/jan)\n",
        "      soma -= fila.get()\n",
        "  return mmov\n",
        "\n",
        "valores = [3, 5, 7, 10, 6, 4, 5, 8]\n",
        "jan = 3\n",
        "\n",
        "mm(valores, jan)"
      ],
      "metadata": {
        "colab": {
          "base_uri": "https://localhost:8080/"
        },
        "id": "hsFdrfE0DoyL",
        "outputId": "03ed8726-28a5-4a58-e217-9f8d9c6ddabf"
      },
      "execution_count": null,
      "outputs": [
        {
          "output_type": "execute_result",
          "data": {
            "text/plain": [
              "[5.0,\n",
              " 7.333333333333333,\n",
              " 7.666666666666667,\n",
              " 6.666666666666667,\n",
              " 5.0,\n",
              " 5.666666666666667]"
            ]
          },
          "metadata": {},
          "execution_count": 9
        }
      ]
    }
  ]
}